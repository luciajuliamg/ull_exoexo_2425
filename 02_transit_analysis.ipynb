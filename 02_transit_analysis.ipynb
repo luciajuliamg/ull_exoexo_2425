{
 "cells": [
  {
   "cell_type": "markdown",
   "metadata": {},
   "source": [
    "# 2.1 Transit light curve analysis of WASP-12b \n",
    "\n",
    "### Universidad de La Laguna Exo & Exo 2024-2025 exercise 2\n",
    "\n",
    "Author: [Hannu Parviainen](mailto:hannu@iac.es)<br>\n",
    "Last updated: 21.4.2025\n",
    "\n",
    "## Initialisation"
   ]
  },
  {
   "cell_type": "code",
   "execution_count": 1,
   "metadata": {},
   "outputs": [
    {
     "ename": "",
     "evalue": "",
     "output_type": "error",
     "traceback": [
      "\u001b[1;31mRunning cells with 'exoexo (Python 3.13.2)' requires the ipykernel package.\n",
      "\u001b[1;31mRun the following command to install 'ipykernel' into the Python environment. \n",
      "\u001b[1;31mCommand: 'conda install -n exoexo ipykernel --update-deps --force-reinstall'"
     ]
    }
   ],
   "source": [
    "%matplotlib inline "
   ]
  },
  {
   "cell_type": "code",
   "execution_count": 2,
   "metadata": {},
   "outputs": [],
   "source": [
    "import math as mt\n",
    "import pandas as pd\n",
    "import warnings\n",
    "import seaborn as sb\n",
    "\n",
    "from matplotlib.pyplot import subplots, setp, rc, Rectangle\n",
    "from numpy import argmax, array, median, seterr, floor, percentile\n",
    "from numpy.random import seed, permutation\n",
    "from astropy.table import Table\n",
    "from corner import corner\n",
    "\n",
    "from pytransit import TransitLPF\n",
    "\n",
    "seterr('ignore')\n",
    "seed(0)"
   ]
  },
  {
   "cell_type": "markdown",
   "metadata": {},
   "source": [
    "### Read in the data\n",
    "\n",
    "First we need to read in the light curve stored in ``wasp-12b_181227_chromatic_k.fits``. The file has light curves for a single transit observed simultaneously in four passbands (g, r, i, and z_s), but we keep things simple and use only the r-band data. \n",
    "\n",
    "In our case, the photometry is saved as binary table extensions in the fits file, one extension per passband. To get the r-band data, we need to read the third HDU of the fits file (the first is the primary HDU, the second the first extension, etc.).\n",
    "\n",
    "We start the same way as with the RV data and take a look at our data and try plotting it."
   ]
  },
  {
   "cell_type": "code",
   "execution_count": null,
   "metadata": {},
   "outputs": [],
   "source": [
    "tb = Table.read('data/wasp-12b_181227_chromatic_k.fits', 2)\n",
    "tb[:5]"
   ]
  },
  {
   "cell_type": "markdown",
   "metadata": {},
   "source": [
    "Now, we can assume the time data is stored in the ``time_bjd`` column and the flux the ``flux`` column. In general, if you'd see a file like this, you should check the file's documentation (if such exists) what column is what, or ask the person who created the file."
   ]
  },
  {
   "cell_type": "code",
   "execution_count": null,
   "metadata": {},
   "outputs": [],
   "source": [
    "tref = floor(tb['time_bjd'].mean())\n",
    "fig, ax = subplots(figsize=(13,5), sharey=True)\n",
    "ax.plot(tb['time_bjd'] - tref, tb['flux'], drawstyle='steps-mid')\n",
    "setp(ax, xlabel=f\"Time - {tref:.0f} [BJD]\", ylabel='Normalised flux', xlim=tb['time_bjd'][[0,-1]]-tref)\n",
    "fig.tight_layout()"
   ]
  },
  {
   "cell_type": "markdown",
   "metadata": {},
   "source": [
    "The depth of the transit signal gives us information about the planet radius\n",
    "The duration of the transit signal gives us information about the planet orbit\n",
    "The shape of the transit signal is related to the stellar disc darkening"
   ]
  },
  {
   "cell_type": "markdown",
   "metadata": {},
   "source": [
    "## Parameter estimation\n",
    "\n",
    "First, we create an instance of the log posterior function with the redmost light curve data.\n",
    "\n",
    "Next, we run the *DE* optimiser for ``de_iter`` iterations to clump the parameter vector population close to the global posterior maximum, use the *DE* population to initialise the *emcee* sampler, and run the sampler for ``mc_iter`` iterations to obtain a posterior sample."
   ]
  },
  {
   "cell_type": "markdown",
   "metadata": {},
   "source": [
    "### Initialise the LPF and set the priors"
   ]
  },
  {
   "cell_type": "code",
   "execution_count": null,
   "metadata": {},
   "outputs": [],
   "source": [
    "lpf = TransitLPF('WASP-12b', 'r', tb['time_bjd'], tb['flux'])\n",
    "lpf.ps"
   ]
  },
  {
   "cell_type": "markdown",
   "metadata": {},
   "source": [
    "Print the model parametrization"
   ]
  },
  {
   "cell_type": "markdown",
   "metadata": {},
   "source": [
    "Set prior parameters that we know: transit center and orbital period"
   ]
  },
  {
   "cell_type": "code",
   "execution_count": 6,
   "metadata": {},
   "outputs": [],
   "source": [
    "lpf.set_prior('tc', 'NP', 2458480.65, 0.02)\n",
    "lpf.set_prior('p', 'NP', 1.0914201, 1.1e-09)"
   ]
  },
  {
   "cell_type": "markdown",
   "metadata": {},
   "source": [
    "tc transit center \n",
    "p orbital period \n",
    "rho planet density\n",
    "b impact parameter (if 0 cross in center of star, if 1 cross in the edge of star)\n",
    "k radius ratio\n",
    "q1, q2 limb darkening coefficients\n",
    "wn average wide noise"
   ]
  },
  {
   "cell_type": "code",
   "execution_count": null,
   "metadata": {},
   "outputs": [],
   "source": [
    "lpf.ps"
   ]
  },
  {
   "cell_type": "code",
   "execution_count": null,
   "metadata": {},
   "outputs": [],
   "source": [
    "lpf.optimize_global(niter=500, npop=50)"
   ]
  },
  {
   "cell_type": "markdown",
   "metadata": {},
   "source": [
    "Prior model:"
   ]
  },
  {
   "cell_type": "code",
   "execution_count": null,
   "metadata": {},
   "outputs": [],
   "source": [
    "lpf.plot_light_curve();"
   ]
  },
  {
   "cell_type": "code",
   "execution_count": null,
   "metadata": {},
   "outputs": [],
   "source": [
    "lpf.sample_mcmc(5000, thin=20, repeats=2, label='MCMC sampling')"
   ]
  },
  {
   "cell_type": "markdown",
   "metadata": {},
   "source": [
    "Posterior model with uncertenties:"
   ]
  },
  {
   "cell_type": "code",
   "execution_count": null,
   "metadata": {},
   "outputs": [],
   "source": [
    "lpf.plot_light_curve('mc');"
   ]
  },
  {
   "cell_type": "markdown",
   "metadata": {},
   "source": [
    "### Analysis: overview\n",
    "\n",
    "The MCMC chains are now stored in ``lpf.sampler.chain``. Let's first have a look into how the chain populations evolved to see if we have any problems with our setup, whether we have converged to sample the true posterior distribution, and, if so, what was the burn-in time."
   ]
  },
  {
   "cell_type": "code",
   "execution_count": null,
   "metadata": {},
   "outputs": [],
   "source": [
    "fig, axs = subplots(2,4, figsize=(13,5), sharex=True)\n",
    "ls, lc = ['-','--','--'], ['k', '0.5', '0.5']\n",
    "percs = [percentile(lpf.sampler.chain[:,:,i], [50,16,84], 0) for i in range(8)]\n",
    "[axs.flat[i].plot(lpf.sampler.chain[:,:,i].T, 'k', alpha=0.01) for i in range(8)]\n",
    "[[axs.flat[i].plot(percs[i][j], c=lc[j], ls=ls[j]) for j in range(3)] for i in range(8)]\n",
    "setp(axs, yticks=[], xlim=[0,5000//20])\n",
    "fig.tight_layout()"
   ]
  },
  {
   "cell_type": "markdown",
   "metadata": {},
   "source": [
    "Ok, everything looks good. The 16th, 50th and 84th percentiles of the parameter vector population are stable and don't show any significant long-term trends. Now we can flatten the individual chains into one long chain ``fc`` and calculate the median parameter vector."
   ]
  },
  {
   "cell_type": "code",
   "execution_count": 13,
   "metadata": {},
   "outputs": [],
   "source": [
    "fc = lpf.sampler.chain.reshape([-1,lpf.sampler.chain.shape[-1]])\n",
    "mp = median(fc, 0)"
   ]
  },
  {
   "cell_type": "markdown",
   "metadata": {},
   "source": [
    "Let's also plot the model and the data to see if this all makes sense. To do this, we calculate the conditional distribution of flux using the posterior samples (here, we're using a random subset of samples, although this isn't really necessary), and plot the distribution median and it's median-centred 68%, 95%, and 99.7% central posterior intervals (corresponding approximately to 1, 2, and 3$\\sigma$ intervals if the distribution is normal). "
   ]
  },
  {
   "cell_type": "code",
   "execution_count": 14,
   "metadata": {},
   "outputs": [],
   "source": [
    "flux_pr = lpf.flux_model(fc[permutation(fc.shape[0])[:1000]])\n",
    "flux_pc = array(percentile(flux_pr, [50, 0.15,99.85, 2.5,97.5, 16,84], 0))"
   ]
  },
  {
   "cell_type": "code",
   "execution_count": null,
   "metadata": {},
   "outputs": [],
   "source": [
    "zx1,zx2,zy1,zy2 = 0.69,0.71, 0.983, 0.992\n",
    "tref = floor(lpf.timea.min())\n",
    "fig, ax = subplots(1,1, figsize=(13,4))\n",
    "ax.errorbar(lpf.timea-tref, lpf.ofluxa, 10**mp[7], fmt='.', c='C1', alpha=0.75)\n",
    "[ax.fill_between(lpf.timea-tref,*flux_pc[i:i+2,:],alpha=0.2,facecolor='C0') for i in range(1,6,2)]\n",
    "ax.plot(lpf.timea-tref, flux_pc[0], c='C0')\n",
    "setp(ax, xlim=lpf.timea[[0,-1]]-tref, xlabel=f'Time - {tref:.0f} [BJD]', ylabel='Normalised flux')\n",
    "fig.tight_layout()\n",
    "\n",
    "az = fig.add_axes([0.075,0.18,0.20,0.46])\n",
    "ax.add_patch(Rectangle((zx1,zy1),zx2-zx1,zy2-zy1,fill=False,edgecolor='k',lw=1,ls='dashed'))\n",
    "[az.fill_between(lpf.timea-tref,*flux_pc[i:i+2,:],alpha=0.2,facecolor='C0') for i in range(1,6,2)]\n",
    "setp(az, xlim=(zx1,zx2), ylim=(zy1,zy2), yticks=[], xticks=[])\n",
    "az.plot(lpf.timea-tref, flux_pc[0], c='C0');"
   ]
  },
  {
   "cell_type": "markdown",
   "metadata": {},
   "source": [
    "We could (should) also plot the residuals, but I've left them out from the plot for clarity. The plot looks fine, and we can continue to have a look at the parameter estimates."
   ]
  },
  {
   "cell_type": "markdown",
   "metadata": {},
   "source": [
    "## Analysis"
   ]
  },
  {
   "cell_type": "markdown",
   "metadata": {},
   "source": [
    "We start the analysis by making a Pandas data frame ``df``, using the ``df.describe`` to gen an overview of the estimates, and plotting the posteriors for the most interesting parameters as violin plots."
   ]
  },
  {
   "cell_type": "code",
   "execution_count": null,
   "metadata": {},
   "outputs": [],
   "source": [
    "pd.set_option('display.precision',4)\n",
    "df = lpf.posterior_samples(derived_parameters=True)\n",
    "df.describe()"
   ]
  },
  {
   "cell_type": "markdown",
   "metadata": {},
   "source": [
    "Posterior density for transit center:"
   ]
  },
  {
   "cell_type": "code",
   "execution_count": null,
   "metadata": {},
   "outputs": [],
   "source": [
    "df.tc.hist(bins=50)"
   ]
  },
  {
   "cell_type": "markdown",
   "metadata": {},
   "source": [
    "Plot the density for other parameters"
   ]
  },
  {
   "cell_type": "code",
   "execution_count": null,
   "metadata": {},
   "outputs": [],
   "source": [
    "fig, axs = subplots(1,4, figsize=(13,3))\n",
    "pars = 'tc rho b k'.split()\n",
    "[sb.violinplot(y=df[p], inner='quartile', ax=axs.flat[i]) for i,p in enumerate(pars)]\n",
    "[axs.flat[i].text(0.05,0.9, p, transform=axs.flat[i].transAxes) for i,p in enumerate(pars)]\n",
    "setp(axs, xticks=[], ylabel='')\n",
    "fig.tight_layout()"
   ]
  },
  {
   "cell_type": "markdown",
   "metadata": {},
   "source": [
    "While we're at it, let's plot some correlation plots. The limb darkening coefficients are correlated, and we'd also expect to see a correlation between the impact parameter and radius ratio."
   ]
  },
  {
   "cell_type": "markdown",
   "metadata": {},
   "source": [
    "All of our parameters are correlated"
   ]
  },
  {
   "cell_type": "code",
   "execution_count": null,
   "metadata": {},
   "outputs": [],
   "source": [
    "ccols = ['k', 'rho', 'b', 'q1_r', 'q2_r']\n",
    "corner(df[ccols].values, labels=ccols);"
   ]
  },
  {
   "cell_type": "markdown",
   "metadata": {},
   "source": [
    "### <span style=\"color:darkblue\">Questions and exercises</span>\n",
    "\n",
    "1. Estimate the radius of the planet using the planet-star radius ratio (k) and the stellar radius (that you need to find from somewhere) Give the answer in Jupiter radii."
   ]
  },
  {
   "cell_type": "code",
   "execution_count": null,
   "metadata": {},
   "outputs": [],
   "source": []
  },
  {
   "cell_type": "markdown",
   "metadata": {},
   "source": [
    "2. Compare the stellar density ($\\rho$) estimated from the transit modelling to the theoretical stellar density for a WASP-12-like star.\n",
    "\n",
    "- Answer.\n",
    "\n",
    "3. From the plot above you can see that many of the parameters are correlated with each other. What does this mean in practice?\n",
    "\n",
    "- Answer.\n"
   ]
  },
  {
   "cell_type": "markdown",
   "metadata": {},
   "source": [
    "---\n",
    "<center>&copy;2025 Hannu Parviainen</center>"
   ]
  }
 ],
 "metadata": {
  "kernelspec": {
   "display_name": "exoexo",
   "language": "python",
   "name": "python3"
  },
  "language_info": {
   "codemirror_mode": {
    "name": "ipython",
    "version": 3
   },
   "file_extension": ".py",
   "mimetype": "text/x-python",
   "name": "python",
   "nbconvert_exporter": "python",
   "pygments_lexer": "ipython3",
   "version": "3.13.2"
  }
 },
 "nbformat": 4,
 "nbformat_minor": 4
}
