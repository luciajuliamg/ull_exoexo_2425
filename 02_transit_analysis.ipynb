{
 "cells": [
  {
   "cell_type": "markdown",
   "metadata": {},
   "source": [
    "# 2.1 Transit light curve analysis of WASP-12b \n",
    "\n",
    "### Universidad de La Laguna Exo & Exo 2024-2025 exercise 2\n",
    "\n",
    "Author: [Hannu Parviainen](mailto:hannu@iac.es)<br>\n",
    "Last updated: 21.4.2025\n",
    "\n",
    "## Initialisation"
   ]
  },
  {
   "cell_type": "code",
   "execution_count": 1,
   "metadata": {},
   "outputs": [],
   "source": [
    "%matplotlib inline "
   ]
  },
  {
   "cell_type": "code",
   "execution_count": 2,
   "metadata": {},
   "outputs": [
    {
     "name": "stderr",
     "output_type": "stream",
     "text": [
      "<frozen importlib._bootstrap>:488: FutureWarning: pybind11-bound class 'celerite.solver.CholeskySolver' is using an old-style placement-new '__setstate__' which has been deprecated. See the upgrade guide in pybind11's docs. This message is only visible when compiled in debug mode.\n"
     ]
    }
   ],
   "source": [
    "import math as mt\n",
    "import pandas as pd\n",
    "import warnings\n",
    "import seaborn as sb\n",
    "import matplotlib.pyplot as plt\n",
    "import numpy as np\n",
    "\n",
    "from matplotlib.pyplot import subplots, setp, rc, Rectangle\n",
    "from numpy import argmax, array, median, seterr, floor, percentile\n",
    "from numpy.random import seed, permutation\n",
    "from astropy.table import Table\n",
    "from corner import corner\n",
    "from astropy import units as u\n",
    "\n",
    "from pytransit import TransitLPF\n",
    "\n",
    "seterr('ignore')\n",
    "seed(0)"
   ]
  },
  {
   "cell_type": "markdown",
   "metadata": {},
   "source": [
    "### Read in the data\n",
    "\n",
    "First we need to read in the light curve stored in ``wasp-12b_181227_chromatic_k.fits``. The file has light curves for a single transit observed simultaneously in four passbands (g, r, i, and z_s), but we keep things simple and use only the r-band data. \n",
    "\n",
    "In our case, the photometry is saved as binary table extensions in the fits file, one extension per passband. To get the r-band data, we need to read the third HDU of the fits file (the first is the primary HDU, the second the first extension, etc.).\n",
    "\n",
    "We start the same way as with the RV data and take a look at our data and try plotting it."
   ]
  },
  {
   "cell_type": "code",
   "execution_count": 7,
   "metadata": {},
   "outputs": [
    {
     "data": {
      "text/html": [
       "<div><i>Table length=5</i>\n",
       "<table id=\"table5372825664\" class=\"table-striped table-bordered table-condensed\">\n",
       "<thead><tr><th>time_bjd</th><th>flux</th><th>flux_rel</th><th>flux_trg</th><th>flux_ref</th><th>baseline</th><th>model</th></tr></thead>\n",
       "<thead><tr><th>float64</th><th>float64</th><th>float64</th><th>float64</th><th>float64</th><th>float64</th><th>float64</th></tr></thead>\n",
       "<tr><td>2482047.483879058</td><td>5.022033159660947e+35</td><td>3.6169652236677743e-304</td><td>-1.9248156416463776e+230</td><td>7.8606667779668375e+28</td><td>0.992155762607119</td><td>-2.997566927708736e-13</td></tr>\n",
       "<tr><td>-0.11393437602941865</td><td>3.334328209997126e-52</td><td>-1.924997476716691e+230</td><td>-1.1346130948193718e-13</td><td>1.384845663054e-312</td><td>-1.9248417581274677e+230</td><td>-1.924834784620208e+230</td></tr>\n",
       "<tr><td>-1.9248721797613576e+230</td><td>6.821599153709058e+97</td><td>-3.9907724185157175e-13</td><td>-1.9248893816210045e+230</td><td>-0.1143557606846448</td><td>-8.859231378570225e-14</td><td>-9.297682383502339e-15</td></tr>\n",
       "<tr><td>-1.0635588232265188e-13</td><td>-1.9249974767055218e+230</td><td>-1.9247756194981781e+230</td><td>1.9204023695198873e-307</td><td>-1.7007920049969775e-13</td><td>-1.9248347846202591e+230</td><td>-0.11466883116855878</td></tr>\n",
       "<tr><td>2.9298545271601682e+107</td><td>-7.37160220859599e-13</td><td>-1.924834784620233e+230</td><td>-1.924791470211824e+230</td><td>-1.9248244782917978e+230</td><td>-0.11413955310103055</td><td>4.19186868864403e-32</td></tr>\n",
       "</table></div>"
      ],
      "text/plain": [
       "<Table length=5>\n",
       "        time_bjd                   flux           ...          model         \n",
       "        float64                  float64          ...         float64        \n",
       "------------------------ ------------------------ ... -----------------------\n",
       "       2482047.483879058    5.022033159660947e+35 ...  -2.997566927708736e-13\n",
       "    -0.11393437602941865    3.334328209997126e-52 ... -1.924834784620208e+230\n",
       "-1.9248721797613576e+230    6.821599153709058e+97 ...  -9.297682383502339e-15\n",
       " -1.0635588232265188e-13 -1.9249974767055218e+230 ...    -0.11466883116855878\n",
       " 2.9298545271601682e+107    -7.37160220859599e-13 ...    4.19186868864403e-32"
      ]
     },
     "execution_count": 7,
     "metadata": {},
     "output_type": "execute_result"
    }
   ],
   "source": [
    "tb = Table.read('wasp-12b_181227_chromatic_k.fits', 2)\n",
    "tb[:5]\n"
   ]
  },
  {
   "cell_type": "markdown",
   "metadata": {},
   "source": [
    "Now, we can assume the time data is stored in the ``time_bjd`` column and the flux the ``flux`` column. In general, if you'd see a file like this, you should check the file's documentation (if such exists) what column is what, or ask the person who created the file."
   ]
  },
  {
   "cell_type": "code",
   "execution_count": 4,
   "metadata": {},
   "outputs": [
    {
     "ename": "ValueError",
     "evalue": "Axis limits cannot be NaN or Inf",
     "output_type": "error",
     "traceback": [
      "\u001b[31m---------------------------------------------------------------------------\u001b[39m",
      "\u001b[31mValueError\u001b[39m                                Traceback (most recent call last)",
      "\u001b[36mCell\u001b[39m\u001b[36m \u001b[39m\u001b[32mIn[4]\u001b[39m\u001b[32m, line 4\u001b[39m\n\u001b[32m      2\u001b[39m fig, ax = subplots(figsize=(\u001b[32m13\u001b[39m,\u001b[32m5\u001b[39m), sharey=\u001b[38;5;28;01mTrue\u001b[39;00m)\n\u001b[32m      3\u001b[39m ax.plot(tb[\u001b[33m'\u001b[39m\u001b[33mtime_bjd\u001b[39m\u001b[33m'\u001b[39m] - tref, tb[\u001b[33m'\u001b[39m\u001b[33mflux\u001b[39m\u001b[33m'\u001b[39m], drawstyle=\u001b[33m'\u001b[39m\u001b[33msteps-mid\u001b[39m\u001b[33m'\u001b[39m)\n\u001b[32m----> \u001b[39m\u001b[32m4\u001b[39m setp(ax, xlabel=\u001b[33mf\u001b[39m\u001b[33m\"\u001b[39m\u001b[33mTime - \u001b[39m\u001b[38;5;132;01m{\u001b[39;00mtref\u001b[38;5;132;01m:\u001b[39;00m\u001b[33m.0f\u001b[39m\u001b[38;5;132;01m}\u001b[39;00m\u001b[33m [BJD]\u001b[39m\u001b[33m\"\u001b[39m, ylabel=\u001b[33m'\u001b[39m\u001b[33mNormalised flux\u001b[39m\u001b[33m'\u001b[39m, xlim=tb[\u001b[33m'\u001b[39m\u001b[33mtime_bjd\u001b[39m\u001b[33m'\u001b[39m][[\u001b[32m0\u001b[39m,-\u001b[32m1\u001b[39m]]-tref)\n\u001b[32m      5\u001b[39m fig.tight_layout()\n",
      "\u001b[36mFile \u001b[39m\u001b[32m/opt/anaconda3/envs/exoexo/lib/python3.13/site-packages/matplotlib/pyplot.py:798\u001b[39m, in \u001b[36msetp\u001b[39m\u001b[34m(obj, *args, **kwargs)\u001b[39m\n\u001b[32m    796\u001b[39m \u001b[38;5;129m@_copy_docstring_and_deprecators\u001b[39m(matplotlib.artist.setp)\n\u001b[32m    797\u001b[39m \u001b[38;5;28;01mdef\u001b[39;00m\u001b[38;5;250m \u001b[39m\u001b[34msetp\u001b[39m(obj, *args, **kwargs):\n\u001b[32m--> \u001b[39m\u001b[32m798\u001b[39m     \u001b[38;5;28;01mreturn\u001b[39;00m matplotlib.artist.setp(obj, *args, **kwargs)\n",
      "\u001b[36mFile \u001b[39m\u001b[32m/opt/anaconda3/envs/exoexo/lib/python3.13/site-packages/matplotlib/artist.py:1828\u001b[39m, in \u001b[36msetp\u001b[39m\u001b[34m(obj, file, *args, **kwargs)\u001b[39m\n\u001b[32m   1825\u001b[39m     \u001b[38;5;28;01mraise\u001b[39;00m \u001b[38;5;167;01mValueError\u001b[39;00m(\u001b[33m'\u001b[39m\u001b[33mThe set args must be string, value pairs\u001b[39m\u001b[33m'\u001b[39m)\n\u001b[32m   1827\u001b[39m funcvals = \u001b[38;5;28mdict\u001b[39m(\u001b[38;5;28mzip\u001b[39m(args[::\u001b[32m2\u001b[39m], args[\u001b[32m1\u001b[39m::\u001b[32m2\u001b[39m]))\n\u001b[32m-> \u001b[39m\u001b[32m1828\u001b[39m ret = [o.update(funcvals) \u001b[38;5;28;01mfor\u001b[39;00m o \u001b[38;5;129;01min\u001b[39;00m objs] + [o.set(**kwargs) \u001b[38;5;28;01mfor\u001b[39;00m o \u001b[38;5;129;01min\u001b[39;00m objs]\n\u001b[32m   1829\u001b[39m \u001b[38;5;28;01mreturn\u001b[39;00m \u001b[38;5;28mlist\u001b[39m(cbook.flatten(ret))\n",
      "\u001b[36mFile \u001b[39m\u001b[32m/opt/anaconda3/envs/exoexo/lib/python3.13/site-packages/matplotlib/artist.py:146\u001b[39m, in \u001b[36mArtist.__init_subclass__.<locals>.<lambda>\u001b[39m\u001b[34m(self, **kwargs)\u001b[39m\n\u001b[32m    138\u001b[39m \u001b[38;5;28;01mif\u001b[39;00m \u001b[38;5;129;01mnot\u001b[39;00m \u001b[38;5;28mhasattr\u001b[39m(\u001b[38;5;28mcls\u001b[39m.set, \u001b[33m'\u001b[39m\u001b[33m_autogenerated_signature\u001b[39m\u001b[33m'\u001b[39m):\n\u001b[32m    139\u001b[39m     \u001b[38;5;66;03m# Don't overwrite cls.set if the subclass or one of its parents\u001b[39;00m\n\u001b[32m    140\u001b[39m     \u001b[38;5;66;03m# has defined a set method set itself.\u001b[39;00m\n\u001b[32m    141\u001b[39m     \u001b[38;5;66;03m# If there was no explicit definition, cls.set is inherited from\u001b[39;00m\n\u001b[32m    142\u001b[39m     \u001b[38;5;66;03m# the hierarchy of auto-generated set methods, which hold the\u001b[39;00m\n\u001b[32m    143\u001b[39m     \u001b[38;5;66;03m# flag _autogenerated_signature.\u001b[39;00m\n\u001b[32m    144\u001b[39m     \u001b[38;5;28;01mreturn\u001b[39;00m\n\u001b[32m--> \u001b[39m\u001b[32m146\u001b[39m \u001b[38;5;28mcls\u001b[39m.set = \u001b[38;5;28;01mlambda\u001b[39;00m \u001b[38;5;28mself\u001b[39m, **kwargs: Artist.set(\u001b[38;5;28mself\u001b[39m, **kwargs)\n\u001b[32m    147\u001b[39m \u001b[38;5;28mcls\u001b[39m.set.\u001b[34m__name__\u001b[39m = \u001b[33m\"\u001b[39m\u001b[33mset\u001b[39m\u001b[33m\"\u001b[39m\n\u001b[32m    148\u001b[39m \u001b[38;5;28mcls\u001b[39m.set.\u001b[34m__qualname__\u001b[39m = \u001b[33mf\u001b[39m\u001b[33m\"\u001b[39m\u001b[38;5;132;01m{\u001b[39;00m\u001b[38;5;28mcls\u001b[39m.\u001b[34m__qualname__\u001b[39m\u001b[38;5;132;01m}\u001b[39;00m\u001b[33m.set\u001b[39m\u001b[33m\"\u001b[39m\n",
      "\u001b[36mFile \u001b[39m\u001b[32m/opt/anaconda3/envs/exoexo/lib/python3.13/site-packages/matplotlib/artist.py:1241\u001b[39m, in \u001b[36mArtist.set\u001b[39m\u001b[34m(self, **kwargs)\u001b[39m\n\u001b[32m   1237\u001b[39m \u001b[38;5;28;01mdef\u001b[39;00m\u001b[38;5;250m \u001b[39m\u001b[34mset\u001b[39m(\u001b[38;5;28mself\u001b[39m, **kwargs):\n\u001b[32m   1238\u001b[39m     \u001b[38;5;66;03m# docstring and signature are auto-generated via\u001b[39;00m\n\u001b[32m   1239\u001b[39m     \u001b[38;5;66;03m# Artist._update_set_signature_and_docstring() at the end of the\u001b[39;00m\n\u001b[32m   1240\u001b[39m     \u001b[38;5;66;03m# module.\u001b[39;00m\n\u001b[32m-> \u001b[39m\u001b[32m1241\u001b[39m     \u001b[38;5;28;01mreturn\u001b[39;00m \u001b[38;5;28mself\u001b[39m._internal_update(cbook.normalize_kwargs(kwargs, \u001b[38;5;28mself\u001b[39m))\n",
      "\u001b[36mFile \u001b[39m\u001b[32m/opt/anaconda3/envs/exoexo/lib/python3.13/site-packages/matplotlib/artist.py:1233\u001b[39m, in \u001b[36mArtist._internal_update\u001b[39m\u001b[34m(self, kwargs)\u001b[39m\n\u001b[32m   1226\u001b[39m \u001b[38;5;28;01mdef\u001b[39;00m\u001b[38;5;250m \u001b[39m\u001b[34m_internal_update\u001b[39m(\u001b[38;5;28mself\u001b[39m, kwargs):\n\u001b[32m   1227\u001b[39m \u001b[38;5;250m    \u001b[39m\u001b[33;03m\"\"\"\u001b[39;00m\n\u001b[32m   1228\u001b[39m \u001b[33;03m    Update artist properties without prenormalizing them, but generating\u001b[39;00m\n\u001b[32m   1229\u001b[39m \u001b[33;03m    errors as if calling `set`.\u001b[39;00m\n\u001b[32m   1230\u001b[39m \n\u001b[32m   1231\u001b[39m \u001b[33;03m    The lack of prenormalization is to maintain backcompatibility.\u001b[39;00m\n\u001b[32m   1232\u001b[39m \u001b[33;03m    \"\"\"\u001b[39;00m\n\u001b[32m-> \u001b[39m\u001b[32m1233\u001b[39m     \u001b[38;5;28;01mreturn\u001b[39;00m \u001b[38;5;28mself\u001b[39m._update_props(\n\u001b[32m   1234\u001b[39m         kwargs, \u001b[33m\"\u001b[39m\u001b[38;5;132;01m{cls.__name__}\u001b[39;00m\u001b[33m.set() got an unexpected keyword argument \u001b[39m\u001b[33m\"\u001b[39m\n\u001b[32m   1235\u001b[39m         \u001b[33m\"\u001b[39m\u001b[38;5;132;01m{prop_name!r}\u001b[39;00m\u001b[33m\"\u001b[39m)\n",
      "\u001b[36mFile \u001b[39m\u001b[32m/opt/anaconda3/envs/exoexo/lib/python3.13/site-packages/matplotlib/artist.py:1209\u001b[39m, in \u001b[36mArtist._update_props\u001b[39m\u001b[34m(self, props, errfmt)\u001b[39m\n\u001b[32m   1205\u001b[39m             \u001b[38;5;28;01mif\u001b[39;00m \u001b[38;5;129;01mnot\u001b[39;00m \u001b[38;5;28mcallable\u001b[39m(func):\n\u001b[32m   1206\u001b[39m                 \u001b[38;5;28;01mraise\u001b[39;00m \u001b[38;5;167;01mAttributeError\u001b[39;00m(\n\u001b[32m   1207\u001b[39m                     errfmt.format(\u001b[38;5;28mcls\u001b[39m=\u001b[38;5;28mtype\u001b[39m(\u001b[38;5;28mself\u001b[39m), prop_name=k),\n\u001b[32m   1208\u001b[39m                     name=k)\n\u001b[32m-> \u001b[39m\u001b[32m1209\u001b[39m             ret.append(func(v))\n\u001b[32m   1210\u001b[39m \u001b[38;5;28;01mif\u001b[39;00m ret:\n\u001b[32m   1211\u001b[39m     \u001b[38;5;28mself\u001b[39m.pchanged()\n",
      "\u001b[36mFile \u001b[39m\u001b[32m/opt/anaconda3/envs/exoexo/lib/python3.13/site-packages/matplotlib/axes/_base.py:3783\u001b[39m, in \u001b[36m_AxesBase.set_xlim\u001b[39m\u001b[34m(self, left, right, emit, auto, xmin, xmax)\u001b[39m\n\u001b[32m   3781\u001b[39m         \u001b[38;5;28;01mraise\u001b[39;00m \u001b[38;5;167;01mTypeError\u001b[39;00m(\u001b[33m\"\u001b[39m\u001b[33mCannot pass both \u001b[39m\u001b[33m'\u001b[39m\u001b[33mright\u001b[39m\u001b[33m'\u001b[39m\u001b[33m and \u001b[39m\u001b[33m'\u001b[39m\u001b[33mxmax\u001b[39m\u001b[33m'\u001b[39m\u001b[33m\"\u001b[39m)\n\u001b[32m   3782\u001b[39m     right = xmax\n\u001b[32m-> \u001b[39m\u001b[32m3783\u001b[39m \u001b[38;5;28;01mreturn\u001b[39;00m \u001b[38;5;28mself\u001b[39m.xaxis._set_lim(left, right, emit=emit, auto=auto)\n",
      "\u001b[36mFile \u001b[39m\u001b[32m/opt/anaconda3/envs/exoexo/lib/python3.13/site-packages/matplotlib/axis.py:1227\u001b[39m, in \u001b[36mAxis._set_lim\u001b[39m\u001b[34m(self, v0, v1, emit, auto)\u001b[39m\n\u001b[32m   1224\u001b[39m name = \u001b[38;5;28mself\u001b[39m._get_axis_name()\n\u001b[32m   1226\u001b[39m \u001b[38;5;28mself\u001b[39m.axes._process_unit_info([(name, (v0, v1))], convert=\u001b[38;5;28;01mFalse\u001b[39;00m)\n\u001b[32m-> \u001b[39m\u001b[32m1227\u001b[39m v0 = \u001b[38;5;28mself\u001b[39m.axes._validate_converted_limits(v0, \u001b[38;5;28mself\u001b[39m.convert_units)\n\u001b[32m   1228\u001b[39m v1 = \u001b[38;5;28mself\u001b[39m.axes._validate_converted_limits(v1, \u001b[38;5;28mself\u001b[39m.convert_units)\n\u001b[32m   1230\u001b[39m \u001b[38;5;28;01mif\u001b[39;00m v0 \u001b[38;5;129;01mis\u001b[39;00m \u001b[38;5;28;01mNone\u001b[39;00m \u001b[38;5;129;01mor\u001b[39;00m v1 \u001b[38;5;129;01mis\u001b[39;00m \u001b[38;5;28;01mNone\u001b[39;00m:\n\u001b[32m   1231\u001b[39m     \u001b[38;5;66;03m# Axes init calls set_xlim(0, 1) before get_xlim() can be called,\u001b[39;00m\n\u001b[32m   1232\u001b[39m     \u001b[38;5;66;03m# so only grab the limits if we really need them.\u001b[39;00m\n",
      "\u001b[36mFile \u001b[39m\u001b[32m/opt/anaconda3/envs/exoexo/lib/python3.13/site-packages/matplotlib/axes/_base.py:3704\u001b[39m, in \u001b[36m_AxesBase._validate_converted_limits\u001b[39m\u001b[34m(self, limit, convert)\u001b[39m\n\u001b[32m   3701\u001b[39m     converted_limit = converted_limit.squeeze()\n\u001b[32m   3702\u001b[39m \u001b[38;5;28;01mif\u001b[39;00m (\u001b[38;5;28misinstance\u001b[39m(converted_limit, Real)\n\u001b[32m   3703\u001b[39m         \u001b[38;5;129;01mand\u001b[39;00m \u001b[38;5;129;01mnot\u001b[39;00m np.isfinite(converted_limit)):\n\u001b[32m-> \u001b[39m\u001b[32m3704\u001b[39m     \u001b[38;5;28;01mraise\u001b[39;00m \u001b[38;5;167;01mValueError\u001b[39;00m(\u001b[33m\"\u001b[39m\u001b[33mAxis limits cannot be NaN or Inf\u001b[39m\u001b[33m\"\u001b[39m)\n\u001b[32m   3705\u001b[39m \u001b[38;5;28;01mreturn\u001b[39;00m converted_limit\n",
      "\u001b[31mValueError\u001b[39m: Axis limits cannot be NaN or Inf"
     ]
    }
   ],
   "source": [
    "tref = floor(tb['time_bjd'].mean())\n",
    "fig, ax = subplots(figsize=(13,5), sharey=True)\n",
    "ax.plot(tb['time_bjd'] - tref, tb['flux'], drawstyle='steps-mid')\n",
    "setp(ax, xlabel=f\"Time - {tref:.0f} [BJD]\", ylabel='Normalised flux', xlim=tb['time_bjd'][[0,-1]]-tref)\n",
    "fig.tight_layout()"
   ]
  },
  {
   "cell_type": "markdown",
   "metadata": {},
   "source": [
    "The depth of the transit signal gives us information about the planet radius\n",
    "The duration of the transit signal gives us information about the planet orbit\n",
    "The shape of the transit signal is related to the stellar disc darkening"
   ]
  },
  {
   "cell_type": "markdown",
   "metadata": {},
   "source": [
    "## Parameter estimation\n",
    "\n",
    "First, we create an instance of the log posterior function with the redmost light curve data.\n",
    "\n",
    "Next, we run the *DE* optimiser for ``de_iter`` iterations to clump the parameter vector population close to the global posterior maximum, use the *DE* population to initialise the *emcee* sampler, and run the sampler for ``mc_iter`` iterations to obtain a posterior sample."
   ]
  },
  {
   "cell_type": "markdown",
   "metadata": {},
   "source": [
    "### Initialise the LPF and set the priors"
   ]
  },
  {
   "cell_type": "code",
   "execution_count": 26,
   "metadata": {},
   "outputs": [
    {
     "data": {
      "text/plain": [
       "[  0 |G| tc             N(μ = 0.0, σ = 0.1)                      [    -inf ..      inf],\n",
       "   1 |G| p              N(μ = 1.0, σ = 1e-05)                    [    0.00 ..      inf],\n",
       "   2 |G| rho            U(a = 0.1, b = 25.0)                     [    0.00 ..      inf],\n",
       "   3 |G| b              U(a = 0.0, b = 1.0)                      [    0.00 ..     1.00],\n",
       "   4 |P| k2             U(a = 0.0025, b = 0.04)                  [    0.00 ..      inf],\n",
       "   5 |P| q1_r           U(a = 0, b = 1)                          [    0.00 ..     1.00],\n",
       "   6 |P| q2_r           U(a = 0, b = 1)                          [    0.00 ..     1.00],\n",
       "   7 |L| wn_loge_0      U(a = -4, b = 0)                         [    -inf ..      inf]]"
      ]
     },
     "execution_count": 26,
     "metadata": {},
     "output_type": "execute_result"
    }
   ],
   "source": [
    "lpf = TransitLPF('WASP-12b', 'r', tb['time_bjd'], tb['flux'])\n",
    "lpf.ps"
   ]
  },
  {
   "cell_type": "markdown",
   "metadata": {},
   "source": [
    "Print the model parametrization"
   ]
  },
  {
   "cell_type": "markdown",
   "metadata": {},
   "source": [
    "Set prior parameters that we know: transit center and orbital period"
   ]
  },
  {
   "cell_type": "code",
   "execution_count": 27,
   "metadata": {},
   "outputs": [],
   "source": [
    "lpf.set_prior('tc', 'NP', 2458480.65, 0.02)\n",
    "lpf.set_prior('p', 'NP', 1.0914201, 1.1e-09)"
   ]
  },
  {
   "cell_type": "markdown",
   "metadata": {},
   "source": [
    "tc transit center \n",
    "p orbital period \n",
    "rho planet density\n",
    "b impact parameter (if 0 cross in center of star, if 1 cross in the edge of star)\n",
    "k radius ratio\n",
    "q1, q2 limb darkening coefficients\n",
    "wn average wide noise"
   ]
  },
  {
   "cell_type": "code",
   "execution_count": 28,
   "metadata": {},
   "outputs": [
    {
     "data": {
      "text/plain": [
       "[  0 |G| tc             N(μ = 2458480.65, σ = 0.02)              [    -inf ..      inf],\n",
       "   1 |G| p              N(μ = 1.0914201, σ = 1.1e-09)            [    0.00 ..      inf],\n",
       "   2 |G| rho            U(a = 0.1, b = 25.0)                     [    0.00 ..      inf],\n",
       "   3 |G| b              U(a = 0.0, b = 1.0)                      [    0.00 ..     1.00],\n",
       "   4 |P| k2             U(a = 0.0025, b = 0.04)                  [    0.00 ..      inf],\n",
       "   5 |P| q1_r           U(a = 0, b = 1)                          [    0.00 ..     1.00],\n",
       "   6 |P| q2_r           U(a = 0, b = 1)                          [    0.00 ..     1.00],\n",
       "   7 |L| wn_loge_0      U(a = -4, b = 0)                         [    -inf ..      inf]]"
      ]
     },
     "execution_count": 28,
     "metadata": {},
     "output_type": "execute_result"
    }
   ],
   "source": [
    "lpf.ps"
   ]
  },
  {
   "cell_type": "code",
   "execution_count": null,
   "metadata": {},
   "outputs": [
    {
     "data": {
      "application/vnd.jupyter.widget-view+json": {
       "model_id": "ba609a10e0544135871fbaf2c91d3d7e",
       "version_major": 2,
       "version_minor": 0
      },
      "text/plain": [
       "Global optimisation:   0%|          | 0/500 [00:00<?, ?it/s]"
      ]
     },
     "metadata": {},
     "output_type": "display_data"
    }
   ],
   "source": [
    "lpf.optimize_global(niter=500, npop=50)"
   ]
  },
  {
   "cell_type": "markdown",
   "metadata": {},
   "source": [
    "Prior model:"
   ]
  },
  {
   "cell_type": "code",
   "execution_count": null,
   "metadata": {},
   "outputs": [],
   "source": [
    "lpf.plot_light_curve();"
   ]
  },
  {
   "cell_type": "code",
   "execution_count": 33,
   "metadata": {},
   "outputs": [
    {
     "data": {
      "application/vnd.jupyter.widget-view+json": {
       "model_id": "676c17f785e54d9680414dec57e40a42",
       "version_major": 2,
       "version_minor": 0
      },
      "text/plain": [
       "MCMC sampling:   0%|          | 0/2 [00:00<?, ?it/s]"
      ]
     },
     "metadata": {},
     "output_type": "display_data"
    },
    {
     "data": {
      "application/vnd.jupyter.widget-view+json": {
       "model_id": "e320a25c1d4b48ef82c2f7d4a5ac5da9",
       "version_major": 2,
       "version_minor": 0
      },
      "text/plain": [
       "Run 1/2:   0%|          | 0/5000 [00:00<?, ?it/s]"
      ]
     },
     "metadata": {},
     "output_type": "display_data"
    },
    {
     "data": {
      "application/vnd.jupyter.widget-view+json": {
       "model_id": "b681cb2ebe0c4ba781a8915951dee2b5",
       "version_major": 2,
       "version_minor": 0
      },
      "text/plain": [
       "Run 2/2:   0%|          | 0/5000 [00:00<?, ?it/s]"
      ]
     },
     "metadata": {},
     "output_type": "display_data"
    }
   ],
   "source": [
    "lpf.sample_mcmc(5000, thin=20, repeats=2, label='MCMC sampling')"
   ]
  },
  {
   "cell_type": "markdown",
   "metadata": {},
   "source": [
    "Posterior model with uncertenties:"
   ]
  },
  {
   "cell_type": "code",
   "execution_count": null,
   "metadata": {},
   "outputs": [
    {
     "name": "stderr",
     "output_type": "stream",
     "text": [
      "/opt/anaconda3/envs/exoexo/lib/python3.13/site-packages/pytransit/lpf/transitlpf.py:70: UserWarning: Attempting to set identical low and high xlims makes transformation singular; automatically expanding.\n",
      "  setp(ax, xlim=self.timea[[0, -1]] - tref, xlabel=f'Time - {tref:.0f} [BJD]', ylabel='Normalised flux')\n"
     ]
    },
    {
     "data": {
      "text/plain": [
       "(<Figure size 1300x400 with 1 Axes>,\n",
       " <Axes: xlabel='Time - -192499747671669098494403703339518863392166925794313665730676798309695534603253704343706177946458351723537486617139418110905291686498435753886430640107895567953742843779904597477054150059100923393516665667488496921291533205251293184 [BJD]', ylabel='Normalised flux'>)"
      ]
     },
     "execution_count": 35,
     "metadata": {},
     "output_type": "execute_result"
    }
   ],
   "source": [
    "lpf.plot_light_curve('mc')"
   ]
  },
  {
   "cell_type": "markdown",
   "metadata": {},
   "source": [
    "### Analysis: overview\n",
    "\n",
    "The MCMC chains are now stored in ``lpf.sampler.chain``. Let's first have a look into how the chain populations evolved to see if we have any problems with our setup, whether we have converged to sample the true posterior distribution, and, if so, what was the burn-in time."
   ]
  },
  {
   "cell_type": "code",
   "execution_count": null,
   "metadata": {},
   "outputs": [],
   "source": [
    "fig, axs = subplots(2,4, figsize=(13,5), sharex=True)\n",
    "ls, lc = ['-','--','--'], ['k', '0.5', '0.5']\n",
    "percs = [percentile(lpf.sampler.chain[:,:,i], [50,16,84], 0) for i in range(8)]\n",
    "[axs.flat[i].plot(lpf.sampler.chain[:,:,i].T, 'k', alpha=0.01) for i in range(8)]\n",
    "[[axs.flat[i].plot(percs[i][j], c=lc[j], ls=ls[j]) for j in range(3)] for i in range(8)]\n",
    "setp(axs, yticks=[], xlim=[0,5000//20])\n",
    "fig.tight_layout()"
   ]
  },
  {
   "cell_type": "markdown",
   "metadata": {},
   "source": [
    "Ok, everything looks good. The 16th, 50th and 84th percentiles of the parameter vector population are stable and don't show any significant long-term trends. Now we can flatten the individual chains into one long chain ``fc`` and calculate the median parameter vector."
   ]
  },
  {
   "cell_type": "code",
   "execution_count": 42,
   "metadata": {},
   "outputs": [],
   "source": [
    "fc = lpf.sampler.chain.reshape([-1,lpf.sampler.chain.shape[-1]])\n",
    "mp = median(fc, 0)"
   ]
  },
  {
   "cell_type": "markdown",
   "metadata": {},
   "source": [
    "Let's also plot the model and the data to see if this all makes sense. To do this, we calculate the conditional distribution of flux using the posterior samples (here, we're using a random subset of samples, although this isn't really necessary), and plot the distribution median and it's median-centred 68%, 95%, and 99.7% central posterior intervals (corresponding approximately to 1, 2, and 3$\\sigma$ intervals if the distribution is normal). "
   ]
  },
  {
   "cell_type": "code",
   "execution_count": 43,
   "metadata": {},
   "outputs": [],
   "source": [
    "flux_pr = lpf.flux_model(fc[permutation(fc.shape[0])[:1000]])\n",
    "flux_pc = array(percentile(flux_pr, [50, 0.15,99.85, 2.5,97.5, 16,84], 0))"
   ]
  },
  {
   "cell_type": "code",
   "execution_count": 44,
   "metadata": {},
   "outputs": [
    {
     "name": "stderr",
     "output_type": "stream",
     "text": [
      "/var/folders/jj/jw0h86kd4q78t3rcm5127g8c0000gn/T/ipykernel_5162/2693491668.py:7: UserWarning: Attempting to set identical low and high xlims makes transformation singular; automatically expanding.\n",
      "  setp(ax, xlim=lpf.timea[[0,-1]]-tref, xlabel=f'Time - {tref:.0f} [BJD]', ylabel='Normalised flux')\n"
     ]
    }
   ],
   "source": [
    "zx1,zx2,zy1,zy2 = 0.69,0.71, 0.983, 0.992\n",
    "tref = floor(lpf.timea.min())\n",
    "fig, ax = subplots(1,1, figsize=(13,4))\n",
    "ax.errorbar(lpf.timea-tref, lpf.ofluxa, 10**mp[7], fmt='.', c='C1', alpha=0.75)\n",
    "[ax.fill_between(lpf.timea-tref,*flux_pc[i:i+2,:],alpha=0.2,facecolor='C0') for i in range(1,6,2)]\n",
    "ax.plot(lpf.timea-tref, flux_pc[0], c='C0')\n",
    "setp(ax, xlim=lpf.timea[[0,-1]]-tref, xlabel=f'Time - {tref:.0f} [BJD]', ylabel='Normalised flux')\n",
    "fig.tight_layout()\n",
    "\n",
    "az = fig.add_axes([0.075,0.18,0.20,0.46])\n",
    "ax.add_patch(Rectangle((zx1,zy1),zx2-zx1,zy2-zy1,fill=False,edgecolor='k',lw=1,ls='dashed'))\n",
    "[az.fill_between(lpf.timea-tref,*flux_pc[i:i+2,:],alpha=0.2,facecolor='C0') for i in range(1,6,2)]\n",
    "setp(az, xlim=(zx1,zx2), ylim=(zy1,zy2), yticks=[], xticks=[])\n",
    "az.plot(lpf.timea-tref, flux_pc[0], c='C0');"
   ]
  },
  {
   "cell_type": "markdown",
   "metadata": {},
   "source": [
    "We could (should) also plot the residuals, but I've left them out from the plot for clarity. The plot looks fine, and we can continue to have a look at the parameter estimates."
   ]
  },
  {
   "cell_type": "markdown",
   "metadata": {},
   "source": [
    "## Analysis"
   ]
  },
  {
   "cell_type": "markdown",
   "metadata": {},
   "source": [
    "We start the analysis by making a Pandas data frame ``df``, using the ``df.describe`` to gen an overview of the estimates, and plotting the posteriors for the most interesting parameters as violin plots."
   ]
  },
  {
   "cell_type": "code",
   "execution_count": 45,
   "metadata": {},
   "outputs": [
    {
     "data": {
      "text/html": [
       "<div>\n",
       "<style scoped>\n",
       "    .dataframe tbody tr th:only-of-type {\n",
       "        vertical-align: middle;\n",
       "    }\n",
       "\n",
       "    .dataframe tbody tr th {\n",
       "        vertical-align: top;\n",
       "    }\n",
       "\n",
       "    .dataframe thead th {\n",
       "        text-align: right;\n",
       "    }\n",
       "</style>\n",
       "<table border=\"1\" class=\"dataframe\">\n",
       "  <thead>\n",
       "    <tr style=\"text-align: right;\">\n",
       "      <th></th>\n",
       "      <th>tc</th>\n",
       "      <th>p</th>\n",
       "      <th>rho</th>\n",
       "      <th>b</th>\n",
       "      <th>k2</th>\n",
       "      <th>q1_r</th>\n",
       "      <th>q2_r</th>\n",
       "      <th>wn_loge_0</th>\n",
       "      <th>k</th>\n",
       "      <th>a</th>\n",
       "      <th>inc</th>\n",
       "      <th>t14</th>\n",
       "      <th>t23</th>\n",
       "    </tr>\n",
       "  </thead>\n",
       "  <tbody>\n",
       "    <tr>\n",
       "      <th>count</th>\n",
       "      <td>1.2500e+04</td>\n",
       "      <td>1.2500e+04</td>\n",
       "      <td>12500.0000</td>\n",
       "      <td>12500.0000</td>\n",
       "      <td>12500.0000</td>\n",
       "      <td>12500.0000</td>\n",
       "      <td>12500.0000</td>\n",
       "      <td>12500.0000</td>\n",
       "      <td>12500.0000</td>\n",
       "      <td>12500.0000</td>\n",
       "      <td>12500.0000</td>\n",
       "      <td>12500.0000</td>\n",
       "      <td>10500.0000</td>\n",
       "    </tr>\n",
       "    <tr>\n",
       "      <th>mean</th>\n",
       "      <td>2.4585e+06</td>\n",
       "      <td>1.0914e+00</td>\n",
       "      <td>13.0726</td>\n",
       "      <td>0.5122</td>\n",
       "      <td>0.0209</td>\n",
       "      <td>0.4341</td>\n",
       "      <td>0.4951</td>\n",
       "      <td>-2.1361</td>\n",
       "      <td>0.1394</td>\n",
       "      <td>8.7824</td>\n",
       "      <td>1.5011</td>\n",
       "      <td>0.0435</td>\n",
       "      <td>0.0305</td>\n",
       "    </tr>\n",
       "    <tr>\n",
       "      <th>std</th>\n",
       "      <td>1.8390e-02</td>\n",
       "      <td>1.0017e-09</td>\n",
       "      <td>7.7173</td>\n",
       "      <td>0.2896</td>\n",
       "      <td>0.0104</td>\n",
       "      <td>0.2995</td>\n",
       "      <td>0.2918</td>\n",
       "      <td>1.1771</td>\n",
       "      <td>0.0387</td>\n",
       "      <td>2.4613</td>\n",
       "      <td>0.0646</td>\n",
       "      <td>0.0238</td>\n",
       "      <td>0.0147</td>\n",
       "    </tr>\n",
       "    <tr>\n",
       "      <th>min</th>\n",
       "      <td>2.4585e+06</td>\n",
       "      <td>1.0914e+00</td>\n",
       "      <td>0.1673</td>\n",
       "      <td>0.0396</td>\n",
       "      <td>0.0047</td>\n",
       "      <td>0.0191</td>\n",
       "      <td>0.0014</td>\n",
       "      <td>-3.9978</td>\n",
       "      <td>0.0685</td>\n",
       "      <td>2.1922</td>\n",
       "      <td>1.2265</td>\n",
       "      <td>0.0145</td>\n",
       "      <td>0.0027</td>\n",
       "    </tr>\n",
       "    <tr>\n",
       "      <th>25%</th>\n",
       "      <td>2.4585e+06</td>\n",
       "      <td>1.0914e+00</td>\n",
       "      <td>5.7712</td>\n",
       "      <td>0.3044</td>\n",
       "      <td>0.0116</td>\n",
       "      <td>0.1534</td>\n",
       "      <td>0.2672</td>\n",
       "      <td>-3.1503</td>\n",
       "      <td>0.1076</td>\n",
       "      <td>7.1363</td>\n",
       "      <td>1.4839</td>\n",
       "      <td>0.0332</td>\n",
       "      <td>0.0222</td>\n",
       "    </tr>\n",
       "    <tr>\n",
       "      <th>50%</th>\n",
       "      <td>2.4585e+06</td>\n",
       "      <td>1.0914e+00</td>\n",
       "      <td>14.0256</td>\n",
       "      <td>0.4741</td>\n",
       "      <td>0.0199</td>\n",
       "      <td>0.4046</td>\n",
       "      <td>0.4558</td>\n",
       "      <td>-2.3341</td>\n",
       "      <td>0.1410</td>\n",
       "      <td>9.5934</td>\n",
       "      <td>1.5135</td>\n",
       "      <td>0.0366</td>\n",
       "      <td>0.0259</td>\n",
       "    </tr>\n",
       "    <tr>\n",
       "      <th>75%</th>\n",
       "      <td>2.4585e+06</td>\n",
       "      <td>1.0914e+00</td>\n",
       "      <td>20.3606</td>\n",
       "      <td>0.7214</td>\n",
       "      <td>0.0293</td>\n",
       "      <td>0.7032</td>\n",
       "      <td>0.7593</td>\n",
       "      <td>-0.9201</td>\n",
       "      <td>0.1711</td>\n",
       "      <td>10.8637</td>\n",
       "      <td>1.5379</td>\n",
       "      <td>0.0490</td>\n",
       "      <td>0.0356</td>\n",
       "    </tr>\n",
       "    <tr>\n",
       "      <th>max</th>\n",
       "      <td>2.4585e+06</td>\n",
       "      <td>1.0914e+00</td>\n",
       "      <td>24.5164</td>\n",
       "      <td>0.9993</td>\n",
       "      <td>0.0394</td>\n",
       "      <td>0.9873</td>\n",
       "      <td>0.9919</td>\n",
       "      <td>-0.0965</td>\n",
       "      <td>0.1984</td>\n",
       "      <td>11.5576</td>\n",
       "      <td>1.5667</td>\n",
       "      <td>0.1616</td>\n",
       "      <td>0.0910</td>\n",
       "    </tr>\n",
       "  </tbody>\n",
       "</table>\n",
       "</div>"
      ],
      "text/plain": [
       "               tc           p         rho           b          k2        q1_r  \\\n",
       "count  1.2500e+04  1.2500e+04  12500.0000  12500.0000  12500.0000  12500.0000   \n",
       "mean   2.4585e+06  1.0914e+00     13.0726      0.5122      0.0209      0.4341   \n",
       "std    1.8390e-02  1.0017e-09      7.7173      0.2896      0.0104      0.2995   \n",
       "min    2.4585e+06  1.0914e+00      0.1673      0.0396      0.0047      0.0191   \n",
       "25%    2.4585e+06  1.0914e+00      5.7712      0.3044      0.0116      0.1534   \n",
       "50%    2.4585e+06  1.0914e+00     14.0256      0.4741      0.0199      0.4046   \n",
       "75%    2.4585e+06  1.0914e+00     20.3606      0.7214      0.0293      0.7032   \n",
       "max    2.4585e+06  1.0914e+00     24.5164      0.9993      0.0394      0.9873   \n",
       "\n",
       "             q2_r   wn_loge_0           k           a         inc         t14  \\\n",
       "count  12500.0000  12500.0000  12500.0000  12500.0000  12500.0000  12500.0000   \n",
       "mean       0.4951     -2.1361      0.1394      8.7824      1.5011      0.0435   \n",
       "std        0.2918      1.1771      0.0387      2.4613      0.0646      0.0238   \n",
       "min        0.0014     -3.9978      0.0685      2.1922      1.2265      0.0145   \n",
       "25%        0.2672     -3.1503      0.1076      7.1363      1.4839      0.0332   \n",
       "50%        0.4558     -2.3341      0.1410      9.5934      1.5135      0.0366   \n",
       "75%        0.7593     -0.9201      0.1711     10.8637      1.5379      0.0490   \n",
       "max        0.9919     -0.0965      0.1984     11.5576      1.5667      0.1616   \n",
       "\n",
       "              t23  \n",
       "count  10500.0000  \n",
       "mean       0.0305  \n",
       "std        0.0147  \n",
       "min        0.0027  \n",
       "25%        0.0222  \n",
       "50%        0.0259  \n",
       "75%        0.0356  \n",
       "max        0.0910  "
      ]
     },
     "execution_count": 45,
     "metadata": {},
     "output_type": "execute_result"
    }
   ],
   "source": [
    "pd.set_option('display.precision',4)\n",
    "df = lpf.posterior_samples(derived_parameters=True)\n",
    "df.describe()"
   ]
  },
  {
   "cell_type": "markdown",
   "metadata": {},
   "source": [
    "Posterior density for transit center:"
   ]
  },
  {
   "cell_type": "code",
   "execution_count": 46,
   "metadata": {},
   "outputs": [
    {
     "data": {
      "text/plain": [
       "<Axes: >"
      ]
     },
     "execution_count": 46,
     "metadata": {},
     "output_type": "execute_result"
    }
   ],
   "source": [
    "df.tc.hist(bins=50)"
   ]
  },
  {
   "cell_type": "markdown",
   "metadata": {},
   "source": [
    "Plot the density for other parameters"
   ]
  },
  {
   "cell_type": "code",
   "execution_count": 22,
   "metadata": {},
   "outputs": [],
   "source": [
    "fig, axs = subplots(1,4, figsize=(13,3))\n",
    "pars = 'tc rho b k'.split()\n",
    "[sb.violinplot(y=df[p], inner='quartile', ax=axs.flat[i]) for i,p in enumerate(pars)]\n",
    "[axs.flat[i].text(0.05,0.9, p, transform=axs.flat[i].transAxes) for i,p in enumerate(pars)]\n",
    "setp(axs, xticks=[], ylabel='')\n",
    "fig.tight_layout()"
   ]
  },
  {
   "cell_type": "markdown",
   "metadata": {},
   "source": [
    "While we're at it, let's plot some correlation plots. The limb darkening coefficients are correlated, and we'd also expect to see a correlation between the impact parameter and radius ratio."
   ]
  },
  {
   "cell_type": "markdown",
   "metadata": {},
   "source": [
    "All of our parameters are correlated"
   ]
  },
  {
   "cell_type": "code",
   "execution_count": null,
   "metadata": {},
   "outputs": [],
   "source": [
    "ccols = ['k', 'rho', 'b', 'q1_r', 'q2_r']\n",
    "corner(df[ccols].values, labels=ccols);"
   ]
  },
  {
   "cell_type": "markdown",
   "metadata": {},
   "source": [
    "### <span style=\"color:darkblue\">Questions and exercises</span>\n",
    "\n",
    "1. Estimate the radius of the planet using the planet-star radius ratio (k) and the stellar radius (that you need to find from somewhere) Give the answer in Jupiter radii."
   ]
  },
  {
   "cell_type": "markdown",
   "metadata": {},
   "source": [
    "From the planet-star radius ratio $k = R_{p}/R_{\\star}$ it is possible to obtain the planet radius $R_{p}$ as\n",
    "\n",
    "$$\n",
    "R_{p} = R_{\\star}*k,\n",
    "$$\n",
    "\n",
    "where the stellar radius is $R_{\\star} = 1.657 R_{\\odot}$ [Collins et al., 2017]."
   ]
  },
  {
   "cell_type": "code",
   "execution_count": 48,
   "metadata": {},
   "outputs": [
    {
     "name": "stdout",
     "output_type": "stream",
     "text": [
      "R_p =  0.23091637703038734 +/- 0.0641172478105305 solRad\n"
     ]
    }
   ],
   "source": [
    "R_p = np.array(df.k)*1.657 * u.R_sun\n",
    "print(\"R_p = \", R_p.mean().value, \"+/-\", R_p.std())"
   ]
  },
  {
   "cell_type": "markdown",
   "metadata": {},
   "source": [
    "2. Compare the stellar density ($\\rho$) estimated from the transit modelling to the theoretical stellar density for a WASP-12-like star."
   ]
  },
  {
   "cell_type": "markdown",
   "metadata": {},
   "source": [
    "The theoretical stellar density estimated by [Collins et al., 2017] for the star WASP-12 is:\n",
    "\n",
    "$$\n",
    "\\rho_\\star = 0.446 \\pm 0.015\\ \\mathrm{g}\\ \\mathrm{cm^{-3}}.\n",
    "$$\n",
    "\n",
    "From the transit modelling that has been done in this work, the resulting stellar density is:"
   ]
  },
  {
   "cell_type": "code",
   "execution_count": null,
   "metadata": {},
   "outputs": [
    {
     "name": "stdout",
     "output_type": "stream",
     "text": [
      "rho = 13.072620321230561 +/- 7.717028508754181 g / cm3\n"
     ]
    }
   ],
   "source": [
    "rho = np.array(df.rho) * u.g / u.cm**3\n",
    "print(\"rho =\", rho.mean().value, \"+/-\", rho.std())"
   ]
  },
  {
   "cell_type": "markdown",
   "metadata": {},
   "source": [
    "3. From the plot above you can see that many of the parameters are correlated with each other. What does this mean in practice?\n",
    "\n",
    "If the model parameters are correlated, this means they are not independent from each other, and consequently the changes in one of them are systematically associated with changes in the other one. This dependencies have to be taken into consideration when interpreting the results, as it may leed to uncertainties or degeneracies.\n"
   ]
  },
  {
   "cell_type": "markdown",
   "metadata": {},
   "source": [
    "---\n",
    "<center>&copy;2025 Hannu Parviainen</center>"
   ]
  }
 ],
 "metadata": {
  "kernelspec": {
   "display_name": "exoexo",
   "language": "python",
   "name": "python3"
  },
  "language_info": {
   "codemirror_mode": {
    "name": "ipython",
    "version": 3
   },
   "file_extension": ".py",
   "mimetype": "text/x-python",
   "name": "python",
   "nbconvert_exporter": "python",
   "pygments_lexer": "ipython3",
   "version": "3.13.2"
  }
 },
 "nbformat": 4,
 "nbformat_minor": 4
}
